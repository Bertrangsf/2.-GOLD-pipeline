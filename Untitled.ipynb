{
 "cells": [
  {
   "cell_type": "code",
   "execution_count": 1,
   "id": "awful-private",
   "metadata": {},
   "outputs": [],
   "source": [
    "import os\n",
    "def download_dataset():\n",
    "    '''Downloads a dataset from kaggle and only keeps the csv in your data file. Beware of your own data structure:\n",
    "    this creates a data directory and also moves all the .csv files next to your jupyter notebooks to it.\n",
    "    Takes: url from kaggle\n",
    "    Returns: a folder with the downloaded csv\n",
    "    '''\n",
    "    \n",
    "    #Gets the name of the dataset.zip\n",
    "    url = input(\"Introduce la url: \")\n",
    "    \n",
    "    #Gets the name of the dataset.zip\n",
    "    endopint = url.split(\"/\")[-1]\n",
    "    user = url.split(\"/\")[-2]\n",
    "    \n",
    "    #Download, decompress and leaves only the csv\n",
    "    download = f\"kaggle datasets download -d {user}/{endopint}\"\n",
    "    decompress = f\"tar -xzvf {endopint}.zip\"\n",
    "    delete = f\"rm -rf {endopint}.zip\"\n",
    "    make_directory = \"mkdir data\"\n",
    "    lista = \"ls >> archivos.txt\"\n",
    "    \n",
    "    for i in [download, decompress, delete, make_directory, lista]:\n",
    "        os.system(i)\n",
    "    \n",
    "    #Gets the name of the csv (you should only have one csv when running this code)\n",
    "    lista_archivos = open('archivos.txt').read()\n",
    "    nueva = lista_archivos.split(\"\\n\")\n",
    "    \n",
    "    #Moves the .csv into the data directory\n",
    "    for i in nueva:\n",
    "        if i.endswith(\".csv\"):\n",
    "            move_and_delete = f\"mv {i} data/dataset.csv; rm archivos.txt; say -v Monica 'moviendo el dataset'\"\n",
    "            return os.system(move_and_delete)"
   ]
  },
  {
   "cell_type": "code",
   "execution_count": 2,
   "id": "greenhouse-armor",
   "metadata": {},
   "outputs": [
    {
     "name": "stdout",
     "output_type": "stream",
     "text": [
      "Introduce la url: https://www.kaggle.com/tunguz/gold-prices\n"
     ]
    }
   ],
   "source": [
    "download_dataset()"
   ]
  },
  {
   "cell_type": "code",
   "execution_count": 4,
   "id": "brazilian-elder",
   "metadata": {},
   "outputs": [],
   "source": [
    "url = \"https://www.kaggle.com/tunguz/gold-prices\""
   ]
  },
  {
   "cell_type": "code",
   "execution_count": 5,
   "id": "clean-wisconsin",
   "metadata": {},
   "outputs": [
    {
     "name": "stdout",
     "output_type": "stream",
     "text": [
      "gold-prices\n"
     ]
    },
    {
     "data": {
      "text/plain": [
       "'tunguz'"
      ]
     },
     "execution_count": 5,
     "metadata": {},
     "output_type": "execute_result"
    }
   ],
   "source": [
    "endopint = url.split(\"/\")[-1]\n",
    "user = url.split(\"/\")[-2]\n",
    "print(endopint)\n",
    "user"
   ]
  },
  {
   "cell_type": "code",
   "execution_count": 7,
   "id": "handmade-nowhere",
   "metadata": {},
   "outputs": [],
   "source": [
    "download = f\"kaggle datasets download -d {user}/{endopint}\""
   ]
  },
  {
   "cell_type": "code",
   "execution_count": null,
   "id": "sitting-mother",
   "metadata": {},
   "outputs": [],
   "source": []
  }
 ],
 "metadata": {
  "kernelspec": {
   "display_name": "Python 3",
   "language": "python",
   "name": "python3"
  },
  "language_info": {
   "codemirror_mode": {
    "name": "ipython",
    "version": 3
   },
   "file_extension": ".py",
   "mimetype": "text/x-python",
   "name": "python",
   "nbconvert_exporter": "python",
   "pygments_lexer": "ipython3",
   "version": "3.8.5"
  }
 },
 "nbformat": 4,
 "nbformat_minor": 5
}
